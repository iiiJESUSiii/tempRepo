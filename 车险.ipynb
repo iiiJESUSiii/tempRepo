{
 "cells": [
  {
   "cell_type": "markdown",
   "metadata": {},
   "source": [
    "# 目的\n",
    "## 利用已有数据建立客户画像，进行精准定价，提升客户续保率"
   ]
  },
  {
   "cell_type": "markdown",
   "metadata": {},
   "source": [
    "# 明确业务场景\n",
    "对于不同风险等级的客户，他们的保费应该是不同的，比如驾驶习惯好，不容易出险的客户，应该给与较低的保费，使客户更愿意续保，对于容易出险的客户，提高保费，以保证营收。"
   ]
  },
  {
   "cell_type": "markdown",
   "metadata": {},
   "source": [
    "# 分析思路\n",
    "由于最终目的是提高续保概率，而我们能影响客户是否续保的方法只有保单价格。而保单价格的厘定的依据有车辆价格，客户风险等级。车辆价格是已知的，因此要重点判断客户风险等级。因此，本次建模的解题关键在于构建用户画像，可以精准的刻画客户的风险等级，然后对于低风险等级的客户，降低其保单价格，从而提高续保率。因此，本题需要两个模型，一个是客户画像模型，通过客户画像描绘出客户的出险等级，然后建立二分类模型，计算出价格对续保的影响权重，从而进行精准定价，提升客户续保概率。"
   ]
  },
  {
   "cell_type": "markdown",
   "metadata": {},
   "source": [
    "# 建模流程\n",
    "首先对数据进行预处理，然后将标签分为三类：基础属性标签，用户行为标签，用户风险标签；接着分析各个标签与客户风险等级的相关性，抽取出相关性大的标签，建立逻辑回归模型计算出影响权重，得出不同客户的风险等级，模型预测准确率为76%。然后建立随机森林模型求出保单价格等因素对续保概率的影响，最后通过降低保单价格以提高续保率，模型预测准确率为99%，通过计算，保费降低10%，20%续保率分别提升0.0054,0.0056。"
   ]
  },
  {
   "cell_type": "markdown",
   "metadata": {},
   "source": [
    "# 总结与建议\n",
    "模型最终结果不是特别满意，提升幅度过小，建模中发现保费与客户是否续保相关系数较小，为0.15，而保单性质与是否续保相关系数极大，为0.99，即之前在公司下过第二份保单的客户再次续保的概率极高，客户忠诚度较大，因此建议在新客户第二次续保时降低保费增加客户留存。"
   ]
  },
  {
   "cell_type": "markdown",
   "metadata": {},
   "source": [
    "# 理解数据"
   ]
  },
  {
   "cell_type": "code",
   "execution_count": 1,
   "metadata": {},
   "outputs": [],
   "source": [
    "import pandas as pd\n",
    "import numpy as np\n",
    "import statsmodels\n",
    "import matplotlib\n",
    "import matplotlib.pyplot as plt\n",
    "matplotlib.rcParams['font.family'] = 'SimHei'\n",
    "plt.rcParams['axes.unicode_minus']=False"
   ]
  },
  {
   "cell_type": "code",
   "execution_count": 2,
   "metadata": {},
   "outputs": [],
   "source": [
    "data = pd.read_excel(r'E:\\nemo\\data\\车险data.xlsx')"
   ]
  },
  {
   "cell_type": "code",
   "execution_count": 3,
   "metadata": {},
   "outputs": [
    {
     "name": "stdout",
     "output_type": "stream",
     "text": [
      "<class 'pandas.core.frame.DataFrame'>\n",
      "RangeIndex: 65535 entries, 0 to 65534\n",
      "Data columns (total 29 columns):\n",
      " #   Column         Non-Null Count  Dtype         \n",
      "---  ------         --------------  -----         \n",
      " 0   保单号            65535 non-null  int64         \n",
      " 1   起保日期           65535 non-null  datetime64[ns]\n",
      " 2   终止日期           65535 non-null  datetime64[ns]\n",
      " 3   渠道             65535 non-null  object        \n",
      " 4   品牌             65535 non-null  object        \n",
      " 5   车系             65535 non-null  object        \n",
      " 6   保单性质           65535 non-null  object        \n",
      " 7   续保年            65535 non-null  int64         \n",
      " 8   投保类别           65535 non-null  object        \n",
      " 9   是否本省车牌         65535 non-null  object        \n",
      " 10  使用性质           65535 non-null  object        \n",
      " 11  车辆种类           65534 non-null  object        \n",
      " 12  车辆用途           65534 non-null  object        \n",
      " 13  新车购置价          65535 non-null  int64         \n",
      " 14  车龄             65535 non-null  int64         \n",
      " 15  险种             65535 non-null  object        \n",
      " 16  NCD            65524 non-null  object        \n",
      " 17  风险类别（A最低，E最高）  16104 non-null  object        \n",
      " 18  客户类别           65535 non-null  object        \n",
      " 19  被保险人性别         61452 non-null  object        \n",
      " 20  被保险人年龄         61448 non-null  float64       \n",
      " 21  是否投保车损         65535 non-null  object        \n",
      " 22  是否投保盗抢         65535 non-null  object        \n",
      " 23  是否投保车上人员       65535 non-null  object        \n",
      " 24  三者险保额          29350 non-null  float64       \n",
      " 25  签单保费           65535 non-null  float64       \n",
      " 26  立案件数           65535 non-null  int64         \n",
      " 27  已决赔款           8161 non-null   float64       \n",
      " 28  是否续保           65535 non-null  object        \n",
      "dtypes: datetime64[ns](2), float64(4), int64(5), object(18)\n",
      "memory usage: 14.5+ MB\n"
     ]
    }
   ],
   "source": [
    "data.info()"
   ]
  },
  {
   "cell_type": "code",
   "execution_count": 4,
   "metadata": {},
   "outputs": [
    {
     "data": {
      "text/plain": [
       "保单号              0.000000\n",
       "起保日期             0.000000\n",
       "终止日期             0.000000\n",
       "渠道               0.000000\n",
       "品牌               0.000000\n",
       "车系               0.000000\n",
       "保单性质             0.000000\n",
       "续保年              0.000000\n",
       "投保类别             0.000000\n",
       "是否本省车牌           0.000000\n",
       "使用性质             0.000000\n",
       "车辆种类             0.000015\n",
       "车辆用途             0.000015\n",
       "新车购置价            0.000000\n",
       "车龄               0.000000\n",
       "险种               0.000000\n",
       "NCD              0.000168\n",
       "风险类别（A最低，E最高）    0.754269\n",
       "客户类别             0.000000\n",
       "被保险人性别           0.062303\n",
       "被保险人年龄           0.062364\n",
       "是否投保车损           0.000000\n",
       "是否投保盗抢           0.000000\n",
       "是否投保车上人员         0.000000\n",
       "三者险保额            0.552148\n",
       "签单保费             0.000000\n",
       "立案件数             0.000000\n",
       "已决赔款             0.875471\n",
       "是否续保             0.000000\n",
       "dtype: float64"
      ]
     },
     "execution_count": 4,
     "metadata": {},
     "output_type": "execute_result"
    }
   ],
   "source": [
    "data.isnull().sum()/len(data)"
   ]
  },
  {
   "cell_type": "markdown",
   "metadata": {},
   "source": [
    "## 数据共28列，其中有三列缺失值比例大于0.5，风别为：风险类别、三者险保额、已决赔款。三者险保额、已决赔款可能是车险人员没有出过事故或者之前没有投保，因此直接以0值进行替换，而风险类别缺失的数据直接单独拿出来作为预测数据。"
   ]
  },
  {
   "cell_type": "markdown",
   "metadata": {},
   "source": [
    "# 数据预处理"
   ]
  },
  {
   "cell_type": "code",
   "execution_count": 5,
   "metadata": {},
   "outputs": [],
   "source": [
    "## 缺失值处理\n",
    "data['风险类别（A最低，E最高）'] = data['风险类别（A最低，E最高）'].map(lambda x:0 if pd.isna(x) else x)\n",
    "data['is_risk'] = data['风险类别（A最低，E最高）'].map(lambda x:1 if x==0 else 0)\n",
    "data['已决赔款'] = data['已决赔款'].map(lambda x:0 if pd.isna(x) else x)\n",
    "data['三者险保额'] = data['三者险保额'].map(lambda x:0 if pd.isna(x) else x)\n",
    "data.dropna(inplace = True)"
   ]
  },
  {
   "cell_type": "code",
   "execution_count": 6,
   "metadata": {},
   "outputs": [],
   "source": [
    "#将二分类变量转化为0-1变量\n",
    "data['是否投保车损'] = data['是否投保车损'].map(lambda x:0 if len(x) == 5 else 1)\n",
    "data['是否投保盗抢'] = data['是否投保盗抢'].map(lambda x:0 if len(x) == 5 else 1)\n",
    "data['是否投保车上人员'] = data['是否投保车上人员'].map(lambda x:0 if len(x) == 7 else 1)\n",
    "data['是否续保'] = data['是否续保'].map(lambda x:0 if x =='否'  else 1)\n",
    "data['保单性质'] = data['保单性质'].map(lambda x:0 if x =='续保'  else 1)\n",
    "data['险种'] = data['险种'].map(lambda x:0 if x =='商业险'  else 1)\n",
    "data['客户类别'] = data['客户类别'].map(lambda x:0 if x =='个人'  else 1)\n",
    "data['被保险人性别'] = data['被保险人性别'].map(lambda x:0 if x =='F'  else 1)"
   ]
  },
  {
   "cell_type": "code",
   "execution_count": 7,
   "metadata": {},
   "outputs": [],
   "source": [
    "data_train = data[data['风险类别（A最低，E最高）']!=0]"
   ]
  },
  {
   "cell_type": "code",
   "execution_count": 8,
   "metadata": {},
   "outputs": [],
   "source": [
    "data_test = data[data['风险类别（A最低，E最高）']==0]"
   ]
  },
  {
   "cell_type": "code",
   "execution_count": 9,
   "metadata": {},
   "outputs": [
    {
     "name": "stderr",
     "output_type": "stream",
     "text": [
      "C:\\ProgramData\\Anaconda3\\lib\\site-packages\\ipykernel_launcher.py:1: SettingWithCopyWarning: \n",
      "A value is trying to be set on a copy of a slice from a DataFrame.\n",
      "Try using .loc[row_indexer,col_indexer] = value instead\n",
      "\n",
      "See the caveats in the documentation: https://pandas.pydata.org/pandas-docs/stable/user_guide/indexing.html#returning-a-view-versus-a-copy\n",
      "  \"\"\"Entry point for launching an IPython kernel.\n",
      "C:\\ProgramData\\Anaconda3\\lib\\site-packages\\ipykernel_launcher.py:2: SettingWithCopyWarning: \n",
      "A value is trying to be set on a copy of a slice from a DataFrame.\n",
      "Try using .loc[row_indexer,col_indexer] = value instead\n",
      "\n",
      "See the caveats in the documentation: https://pandas.pydata.org/pandas-docs/stable/user_guide/indexing.html#returning-a-view-versus-a-copy\n",
      "  \n"
     ]
    }
   ],
   "source": [
    "data_train['风险类别（A最低，E最高）'] = data_train['风险类别（A最低，E最高）'].map({'A':-2,'B':-1,'C':0,'D':1,'E':2,0:0})\n",
    "data_test['风险类别（A最低，E最高）'] = data_test['风险类别（A最低，E最高）'].map({'A':-2,'B':-1,'C':0,'D':1,'E':2,0:0})\n",
    "data['风险类别（A最低，E最高）'] = data['风险类别（A最低，E最高）'].map({'A':-2,'B':-1,'C':0,'D':1,'E':2,0:0})"
   ]
  },
  {
   "cell_type": "markdown",
   "metadata": {},
   "source": [
    "## 分析离散变量"
   ]
  },
  {
   "cell_type": "code",
   "execution_count": 10,
   "metadata": {},
   "outputs": [
    {
     "data": {
      "image/png": "[encoded data removed]",
      "text/plain": [
       "<Figure size 1440x2160 with 17 Axes>"
      ]
     },
     "metadata": {
      "needs_background": "light"
     },
     "output_type": "display_data"
    }
   ],
   "source": [
    "#绘制分类变量与风险等级的柱状图\n",
    "number = 1\n",
    "plt.figure(figsize=(20,30))\n",
    "plt.subplots_adjust(hspace=0.3, wspace=0.2)\n",
    "\n",
    "for i in [ '渠道', '保单性质', '投保类别', '是否本省车牌', '使用性质', '车辆种类', '车辆用途', 'NCD','车龄','被保险人年龄',\n",
    "       '客户类别', '被保险人性别', '是否投保盗抢','是否投保车上人员', '立案件数', '是否续保','续保年',]:\n",
    "    plt.subplot(6, 3, number)\n",
    "    plt.bar(data_train.groupby(i).mean()['风险类别（A最低，E最高）'].index,data_train.groupby(i).mean()['风险类别（A最低，E最高）'])\n",
    "    plt.xlabel(str(i))\n",
    "    plt.ylabel('风险等级均值')\n",
    "    number += 1"
   ]
  },
  {
   "cell_type": "markdown",
   "metadata": {},
   "source": [
    "### 取两个类别作为典型分析：渠道虽然图形差异较大，但是不同渠道分线等级绝对值相差不大，因此不作为标签。是否本省车牌不仅图像上相差显著，数值上差距也较大，因此选择为标签，同理其他变量也用相同分析方法，最终确定如下几个标签：\n",
    "#### 是否本省车牌：是，否，零时\n",
    "#### 车辆种类：10座以下客车，10座以上客车\n",
    "#### 车辆用途：9座以下客车，9座一下非客车，10座以上客车\n",
    "#### 客户类别：个人，企业\n",
    "#### 立案件数：低（5次及5次以下），高（5次以上）\n",
    "#### 车龄：低（10年以下），高（10年及10年以上）\n",
    "#### 年龄：青年（23及23岁以下），中年（23到50岁之间），老年（50及50岁以上）"
   ]
  },
  {
   "cell_type": "markdown",
   "metadata": {},
   "source": [
    "## 分析连续变量"
   ]
  },
  {
   "cell_type": "code",
   "execution_count": 11,
   "metadata": {},
   "outputs": [],
   "source": [
    "import warnings\n",
    " \n",
    "warnings.filterwarnings('ignore')"
   ]
  },
  {
   "cell_type": "code",
   "execution_count": 12,
   "metadata": {},
   "outputs": [
    {
     "data": {
      "text/plain": [
       "[<matplotlib.lines.Line2D at 0x274ef8f6608>]"
      ]
     },
     "execution_count": 12,
     "metadata": {},
     "output_type": "execute_result"
    },
    {
     "data": {
      "image/png": "[encoded data removed]",
      "text/plain": [
       "<Figure size 432x288 with 1 Axes>"
      ]
     },
     "metadata": {
      "needs_background": "light"
     },
     "output_type": "display_data"
    }
   ],
   "source": [
    "# 计算车辆购置价以万取整，然后绘制折线图\n",
    "data_train.loc[data_train.index ,'新车购置价2'] = (data_train['新车购置价']//10000+1)*10000\n",
    "plt.plot(data_train.groupby('新车购置价2').mean()['风险类别（A最低，E最高）'])"
   ]
  },
  {
   "cell_type": "code",
   "execution_count": 13,
   "metadata": {},
   "outputs": [
    {
     "data": {
      "text/plain": [
       "[<matplotlib.lines.Line2D at 0x274ef5d0388>]"
      ]
     },
     "execution_count": 13,
     "metadata": {},
     "output_type": "execute_result"
    },
    {
     "data": {
      "image/png": "[encoded data removed]",
      "text/plain": [
       "<Figure size 432x288 with 1 Axes>"
      ]
     },
     "metadata": {
      "needs_background": "light"
     },
     "output_type": "display_data"
    }
   ],
   "source": [
    "# 计算三者险保额万取整，然后绘制折线图\n",
    "data_train.loc[:,'三者险保额2'] = (data_train['三者险保额']//10000+1)*10000\n",
    "plt.plot(data_train.groupby('三者险保额2').mean()['风险类别（A最低，E最高）'])"
   ]
  },
  {
   "cell_type": "code",
   "execution_count": 14,
   "metadata": {},
   "outputs": [
    {
     "data": {
      "text/plain": [
       "[<matplotlib.lines.Line2D at 0x274ef8e0d48>]"
      ]
     },
     "execution_count": 14,
     "metadata": {},
     "output_type": "execute_result"
    },
    {
     "data": {
      "image/png": "[encoded data removed]",
      "text/plain": [
       "<Figure size 432x288 with 1 Axes>"
      ]
     },
     "metadata": {
      "needs_background": "light"
     },
     "output_type": "display_data"
    }
   ],
   "source": [
    "# 计算已决赔款万取整，然后绘制折线图\n",
    "data_train.loc[:,'已决赔款2'] = (data_train['已决赔款']//10000+1)*10000\n",
    "plt.plot(data_train.groupby('已决赔款2').mean()['风险类别（A最低，E最高）'])\n"
   ]
  },
  {
   "cell_type": "markdown",
   "metadata": {},
   "source": [
    "### 观察上图发现图像没有明显趋势，认为新车购置价,三者险保额,已决赔款对风险等级没有影响"
   ]
  },
  {
   "cell_type": "code",
   "execution_count": 15,
   "metadata": {},
   "outputs": [
    {
     "data": {
      "text/plain": [
       "Index(['保单号', '起保日期', '终止日期', '渠道', '品牌', '车系', '保单性质', '续保年', '投保类别',\n",
       "       '是否本省车牌', '使用性质', '车辆种类', '车辆用途', '新车购置价', '车龄', '险种', 'NCD',\n",
       "       '风险类别（A最低，E最高）', '客户类别', '被保险人性别', '被保险人年龄', '是否投保车损', '是否投保盗抢',\n",
       "       '是否投保车上人员', '三者险保额', '签单保费', '立案件数', '已决赔款', '是否续保', 'is_risk',\n",
       "       '新车购置价2', '三者险保额2', '已决赔款2'],\n",
       "      dtype='object')"
      ]
     },
     "execution_count": 15,
     "metadata": {},
     "output_type": "execute_result"
    }
   ],
   "source": [
    "data_train.columns"
   ]
  },
  {
   "cell_type": "code",
   "execution_count": 16,
   "metadata": {},
   "outputs": [],
   "source": [
    "X_columns = [ '车辆种类', '车辆用途', '客户类别', '立案件数', '车龄', '被保险人年龄']\n",
    "X = data_train[X_columns]\n",
    "\n",
    "License_plate = pd.get_dummies(X['车辆种类'], prefix='车辆种类' )\n",
    "\n",
    "risk = pd.get_dummies(X['车辆用途'], prefix='车辆用途' )\n",
    "\n",
    "use = pd.get_dummies(X['客户类别'], prefix='客户类别' )\n",
    "\n",
    "NCD = pd.get_dummies(X['立案件数'], prefix='立案件数' )\n",
    "\n",
    "for var in [ '车辆种类', '车辆用途', '客户类别', '立案件数']:\n",
    "    del X[var]\n",
    "X = pd.concat([X, License_plate, risk,use, NCD], axis=1)"
   ]
  },
  {
   "cell_type": "code",
   "execution_count": 17,
   "metadata": {},
   "outputs": [],
   "source": [
    "License_plate = pd.get_dummies(data_test['车辆种类'], prefix='车辆种类' )\n",
    "\n",
    "risk = pd.get_dummies(data_test['车辆用途'], prefix='车辆用途' )\n",
    "\n",
    "use = pd.get_dummies(data_test['客户类别'], prefix='客户类别' )\n",
    "\n",
    "NCD = pd.get_dummies(data_test['立案件数'], prefix='立案件数' )\n",
    "\n",
    "for var in [ '车辆种类', '车辆用途', '客户类别', '立案件数']:\n",
    "    del data_test[var]\n",
    "data_test = pd.concat([data_test, License_plate, risk,use, NCD], axis=1)"
   ]
  },
  {
   "cell_type": "code",
   "execution_count": 18,
   "metadata": {},
   "outputs": [],
   "source": [
    "from sklearn.model_selection import train_test_split\n",
    " \n",
    "y = data_train['风险类别（A最低，E最高）']\n",
    "train_X,test_X,train_y,test_y=train_test_split(X,y,train_size=0.6)"
   ]
  },
  {
   "cell_type": "code",
   "execution_count": 19,
   "metadata": {},
   "outputs": [
    {
     "data": {
      "text/plain": [
       "0.7281427412814274"
      ]
     },
     "execution_count": 19,
     "metadata": {},
     "output_type": "execute_result"
    }
   ],
   "source": [
    "from sklearn.linear_model import LogisticRegression\n",
    "modelLR=LogisticRegression()\n",
    "modelLR.fit(train_X,train_y)\n",
    "modelLR.score(test_X,test_y)"
   ]
  },
  {
   "cell_type": "code",
   "execution_count": 20,
   "metadata": {},
   "outputs": [],
   "source": [
    "data_test['立案件数_8']= 0\n",
    "data_test['立案件数_10']= 0"
   ]
  },
  {
   "cell_type": "code",
   "execution_count": 21,
   "metadata": {},
   "outputs": [],
   "source": [
    "data_test['风险类别（A最低，E最高）'] = modelLR.predict(data_test[X.columns])"
   ]
  },
  {
   "cell_type": "code",
   "execution_count": null,
   "metadata": {},
   "outputs": [],
   "source": []
  },
  {
   "cell_type": "code",
   "execution_count": 22,
   "metadata": {},
   "outputs": [],
   "source": [
    "model_data = data.copy()\n",
    "model_data.drop(columns = ['保单号', '起保日期', '终止日期', '渠道', '品牌', '车系','使用性质', '投保类别'],inplace = True)"
   ]
  },
  {
   "cell_type": "code",
   "execution_count": 23,
   "metadata": {},
   "outputs": [],
   "source": [
    "License_plate = pd.get_dummies(model_data['车辆种类'], prefix='车辆种类' )\n",
    "\n",
    "risk = pd.get_dummies(model_data['车辆用途'], prefix='车辆用途' )\n",
    "\n",
    "use = pd.get_dummies(model_data['客户类别'], prefix='客户类别' )\n",
    "\n",
    "NCD = pd.get_dummies(model_data['立案件数'], prefix='立案件数' )\n",
    "\n",
    "for var in [ '车辆种类', '车辆用途', '客户类别', '立案件数']:\n",
    "    del model_data[var]\n",
    "data_test = pd.concat([model_data, License_plate, risk,use, NCD], axis=1)"
   ]
  },
  {
   "cell_type": "code",
   "execution_count": 24,
   "metadata": {},
   "outputs": [],
   "source": [
    "model_data.loc[data_test.index,'风险类别（A最低，E最高）'] = data_test"
   ]
  },
  {
   "cell_type": "code",
   "execution_count": 25,
   "metadata": {},
   "outputs": [],
   "source": [
    "License_plate = pd.get_dummies(model_data['是否本省车牌'], prefix='是否本省车牌' )\n",
    "NCD = pd.get_dummies(model_data['NCD'], prefix='NCD' )\n",
    "\n",
    "for var in ['是否本省车牌','NCD']:\n",
    "    del model_data[var]\n",
    "model_data = pd.concat([model_data, License_plate,use, NCD], axis=1)"
   ]
  },
  {
   "cell_type": "code",
   "execution_count": null,
   "metadata": {},
   "outputs": [],
   "source": []
  },
  {
   "cell_type": "code",
   "execution_count": 26,
   "metadata": {},
   "outputs": [
    {
     "data": {
      "text/html": [
       "<div>\n",
       "<style scoped>\n",
       "    .dataframe tbody tr th:only-of-type {\n",
       "        vertical-align: middle;\n",
       "    }\n",
       "\n",
       "    .dataframe tbody tr th {\n",
       "        vertical-align: top;\n",
       "    }\n",
       "\n",
       "    .dataframe thead th {\n",
       "        text-align: right;\n",
       "    }\n",
       "</style>\n",
       "<table border=\"1\" class=\"dataframe\">\n",
       "  <thead>\n",
       "    <tr style=\"text-align: right;\">\n",
       "      <th></th>\n",
       "      <th>保单性质</th>\n",
       "      <th>续保年</th>\n",
       "      <th>新车购置价</th>\n",
       "      <th>车龄</th>\n",
       "      <th>险种</th>\n",
       "      <th>风险类别（A最低，E最高）</th>\n",
       "      <th>被保险人性别</th>\n",
       "      <th>被保险人年龄</th>\n",
       "      <th>是否投保车损</th>\n",
       "      <th>是否投保盗抢</th>\n",
       "      <th>...</th>\n",
       "      <th>NCD_a.过去三年未出险</th>\n",
       "      <th>NCD_b.过去两年未出险</th>\n",
       "      <th>NCD_c.过去一年未出险</th>\n",
       "      <th>NCD_e.新过户</th>\n",
       "      <th>NCD_f.上年出险一次</th>\n",
       "      <th>NCD_g.上年出险二次</th>\n",
       "      <th>NCD_h.上年出险三次</th>\n",
       "      <th>NCD_i.上年出险四次</th>\n",
       "      <th>NCD_j.上年出险五次及以上</th>\n",
       "      <th>NCD_新保无记录</th>\n",
       "    </tr>\n",
       "  </thead>\n",
       "  <tbody>\n",
       "    <tr>\n",
       "      <th>0</th>\n",
       "      <td>1</td>\n",
       "      <td>0</td>\n",
       "      <td>100900</td>\n",
       "      <td>1</td>\n",
       "      <td>0</td>\n",
       "      <td>0</td>\n",
       "      <td>0</td>\n",
       "      <td>27.0</td>\n",
       "      <td>1</td>\n",
       "      <td>0</td>\n",
       "      <td>...</td>\n",
       "      <td>0</td>\n",
       "      <td>0</td>\n",
       "      <td>1</td>\n",
       "      <td>0</td>\n",
       "      <td>0</td>\n",
       "      <td>0</td>\n",
       "      <td>0</td>\n",
       "      <td>0</td>\n",
       "      <td>0</td>\n",
       "      <td>0</td>\n",
       "    </tr>\n",
       "    <tr>\n",
       "      <th>1</th>\n",
       "      <td>1</td>\n",
       "      <td>0</td>\n",
       "      <td>191800</td>\n",
       "      <td>1</td>\n",
       "      <td>1</td>\n",
       "      <td>0</td>\n",
       "      <td>0</td>\n",
       "      <td>36.0</td>\n",
       "      <td>0</td>\n",
       "      <td>0</td>\n",
       "      <td>...</td>\n",
       "      <td>0</td>\n",
       "      <td>0</td>\n",
       "      <td>0</td>\n",
       "      <td>0</td>\n",
       "      <td>0</td>\n",
       "      <td>0</td>\n",
       "      <td>0</td>\n",
       "      <td>0</td>\n",
       "      <td>0</td>\n",
       "      <td>0</td>\n",
       "    </tr>\n",
       "    <tr>\n",
       "      <th>2</th>\n",
       "      <td>1</td>\n",
       "      <td>0</td>\n",
       "      <td>200800</td>\n",
       "      <td>2</td>\n",
       "      <td>1</td>\n",
       "      <td>0</td>\n",
       "      <td>0</td>\n",
       "      <td>46.0</td>\n",
       "      <td>0</td>\n",
       "      <td>0</td>\n",
       "      <td>...</td>\n",
       "      <td>0</td>\n",
       "      <td>0</td>\n",
       "      <td>0</td>\n",
       "      <td>0</td>\n",
       "      <td>0</td>\n",
       "      <td>0</td>\n",
       "      <td>0</td>\n",
       "      <td>0</td>\n",
       "      <td>0</td>\n",
       "      <td>0</td>\n",
       "    </tr>\n",
       "    <tr>\n",
       "      <th>3</th>\n",
       "      <td>1</td>\n",
       "      <td>0</td>\n",
       "      <td>56900</td>\n",
       "      <td>4</td>\n",
       "      <td>0</td>\n",
       "      <td>0</td>\n",
       "      <td>1</td>\n",
       "      <td>28.0</td>\n",
       "      <td>0</td>\n",
       "      <td>0</td>\n",
       "      <td>...</td>\n",
       "      <td>0</td>\n",
       "      <td>0</td>\n",
       "      <td>1</td>\n",
       "      <td>0</td>\n",
       "      <td>0</td>\n",
       "      <td>0</td>\n",
       "      <td>0</td>\n",
       "      <td>0</td>\n",
       "      <td>0</td>\n",
       "      <td>0</td>\n",
       "    </tr>\n",
       "    <tr>\n",
       "      <th>4</th>\n",
       "      <td>1</td>\n",
       "      <td>0</td>\n",
       "      <td>81600</td>\n",
       "      <td>14</td>\n",
       "      <td>1</td>\n",
       "      <td>0</td>\n",
       "      <td>1</td>\n",
       "      <td>49.0</td>\n",
       "      <td>0</td>\n",
       "      <td>0</td>\n",
       "      <td>...</td>\n",
       "      <td>0</td>\n",
       "      <td>0</td>\n",
       "      <td>0</td>\n",
       "      <td>0</td>\n",
       "      <td>0</td>\n",
       "      <td>0</td>\n",
       "      <td>0</td>\n",
       "      <td>0</td>\n",
       "      <td>0</td>\n",
       "      <td>0</td>\n",
       "    </tr>\n",
       "    <tr>\n",
       "      <th>...</th>\n",
       "      <td>...</td>\n",
       "      <td>...</td>\n",
       "      <td>...</td>\n",
       "      <td>...</td>\n",
       "      <td>...</td>\n",
       "      <td>...</td>\n",
       "      <td>...</td>\n",
       "      <td>...</td>\n",
       "      <td>...</td>\n",
       "      <td>...</td>\n",
       "      <td>...</td>\n",
       "      <td>...</td>\n",
       "      <td>...</td>\n",
       "      <td>...</td>\n",
       "      <td>...</td>\n",
       "      <td>...</td>\n",
       "      <td>...</td>\n",
       "      <td>...</td>\n",
       "      <td>...</td>\n",
       "      <td>...</td>\n",
       "      <td>...</td>\n",
       "    </tr>\n",
       "    <tr>\n",
       "      <th>65530</th>\n",
       "      <td>1</td>\n",
       "      <td>0</td>\n",
       "      <td>37800</td>\n",
       "      <td>9</td>\n",
       "      <td>1</td>\n",
       "      <td>0</td>\n",
       "      <td>1</td>\n",
       "      <td>44.0</td>\n",
       "      <td>0</td>\n",
       "      <td>0</td>\n",
       "      <td>...</td>\n",
       "      <td>0</td>\n",
       "      <td>0</td>\n",
       "      <td>0</td>\n",
       "      <td>0</td>\n",
       "      <td>0</td>\n",
       "      <td>0</td>\n",
       "      <td>0</td>\n",
       "      <td>0</td>\n",
       "      <td>0</td>\n",
       "      <td>0</td>\n",
       "    </tr>\n",
       "    <tr>\n",
       "      <th>65531</th>\n",
       "      <td>1</td>\n",
       "      <td>0</td>\n",
       "      <td>235800</td>\n",
       "      <td>4</td>\n",
       "      <td>0</td>\n",
       "      <td>0</td>\n",
       "      <td>0</td>\n",
       "      <td>38.0</td>\n",
       "      <td>1</td>\n",
       "      <td>0</td>\n",
       "      <td>...</td>\n",
       "      <td>0</td>\n",
       "      <td>1</td>\n",
       "      <td>0</td>\n",
       "      <td>0</td>\n",
       "      <td>0</td>\n",
       "      <td>0</td>\n",
       "      <td>0</td>\n",
       "      <td>0</td>\n",
       "      <td>0</td>\n",
       "      <td>0</td>\n",
       "    </tr>\n",
       "    <tr>\n",
       "      <th>65532</th>\n",
       "      <td>1</td>\n",
       "      <td>0</td>\n",
       "      <td>225900</td>\n",
       "      <td>7</td>\n",
       "      <td>1</td>\n",
       "      <td>0</td>\n",
       "      <td>0</td>\n",
       "      <td>29.0</td>\n",
       "      <td>0</td>\n",
       "      <td>0</td>\n",
       "      <td>...</td>\n",
       "      <td>0</td>\n",
       "      <td>0</td>\n",
       "      <td>0</td>\n",
       "      <td>0</td>\n",
       "      <td>0</td>\n",
       "      <td>0</td>\n",
       "      <td>0</td>\n",
       "      <td>0</td>\n",
       "      <td>0</td>\n",
       "      <td>0</td>\n",
       "    </tr>\n",
       "    <tr>\n",
       "      <th>65533</th>\n",
       "      <td>1</td>\n",
       "      <td>0</td>\n",
       "      <td>211800</td>\n",
       "      <td>7</td>\n",
       "      <td>0</td>\n",
       "      <td>0</td>\n",
       "      <td>0</td>\n",
       "      <td>37.0</td>\n",
       "      <td>0</td>\n",
       "      <td>0</td>\n",
       "      <td>...</td>\n",
       "      <td>0</td>\n",
       "      <td>0</td>\n",
       "      <td>0</td>\n",
       "      <td>0</td>\n",
       "      <td>1</td>\n",
       "      <td>0</td>\n",
       "      <td>0</td>\n",
       "      <td>0</td>\n",
       "      <td>0</td>\n",
       "      <td>0</td>\n",
       "    </tr>\n",
       "    <tr>\n",
       "      <th>65534</th>\n",
       "      <td>1</td>\n",
       "      <td>0</td>\n",
       "      <td>134900</td>\n",
       "      <td>4</td>\n",
       "      <td>0</td>\n",
       "      <td>-1</td>\n",
       "      <td>1</td>\n",
       "      <td>41.0</td>\n",
       "      <td>1</td>\n",
       "      <td>0</td>\n",
       "      <td>...</td>\n",
       "      <td>0</td>\n",
       "      <td>1</td>\n",
       "      <td>0</td>\n",
       "      <td>0</td>\n",
       "      <td>0</td>\n",
       "      <td>0</td>\n",
       "      <td>0</td>\n",
       "      <td>0</td>\n",
       "      <td>0</td>\n",
       "      <td>0</td>\n",
       "    </tr>\n",
       "  </tbody>\n",
       "</table>\n",
       "<p>61435 rows × 37 columns</p>\n",
       "</div>"
      ],
      "text/plain": [
       "       保单性质  续保年   新车购置价  车龄  险种  风险类别（A最低，E最高）  被保险人性别  被保险人年龄  是否投保车损  \\\n",
       "0         1    0  100900   1   0              0       0    27.0       1   \n",
       "1         1    0  191800   1   1              0       0    36.0       0   \n",
       "2         1    0  200800   2   1              0       0    46.0       0   \n",
       "3         1    0   56900   4   0              0       1    28.0       0   \n",
       "4         1    0   81600  14   1              0       1    49.0       0   \n",
       "...     ...  ...     ...  ..  ..            ...     ...     ...     ...   \n",
       "65530     1    0   37800   9   1              0       1    44.0       0   \n",
       "65531     1    0  235800   4   0              0       0    38.0       1   \n",
       "65532     1    0  225900   7   1              0       0    29.0       0   \n",
       "65533     1    0  211800   7   0              0       0    37.0       0   \n",
       "65534     1    0  134900   4   0             -1       1    41.0       1   \n",
       "\n",
       "       是否投保盗抢  ...  NCD_a.过去三年未出险  NCD_b.过去两年未出险  NCD_c.过去一年未出险  NCD_e.新过户  \\\n",
       "0           0  ...              0              0              1          0   \n",
       "1           0  ...              0              0              0          0   \n",
       "2           0  ...              0              0              0          0   \n",
       "3           0  ...              0              0              1          0   \n",
       "4           0  ...              0              0              0          0   \n",
       "...       ...  ...            ...            ...            ...        ...   \n",
       "65530       0  ...              0              0              0          0   \n",
       "65531       0  ...              0              1              0          0   \n",
       "65532       0  ...              0              0              0          0   \n",
       "65533       0  ...              0              0              0          0   \n",
       "65534       0  ...              0              1              0          0   \n",
       "\n",
       "       NCD_f.上年出险一次  NCD_g.上年出险二次  NCD_h.上年出险三次  NCD_i.上年出险四次  \\\n",
       "0                 0             0             0             0   \n",
       "1                 0             0             0             0   \n",
       "2                 0             0             0             0   \n",
       "3                 0             0             0             0   \n",
       "4                 0             0             0             0   \n",
       "...             ...           ...           ...           ...   \n",
       "65530             0             0             0             0   \n",
       "65531             0             0             0             0   \n",
       "65532             0             0             0             0   \n",
       "65533             1             0             0             0   \n",
       "65534             0             0             0             0   \n",
       "\n",
       "       NCD_j.上年出险五次及以上  NCD_新保无记录  \n",
       "0                    0          0  \n",
       "1                    0          0  \n",
       "2                    0          0  \n",
       "3                    0          0  \n",
       "4                    0          0  \n",
       "...                ...        ...  \n",
       "65530                0          0  \n",
       "65531                0          0  \n",
       "65532                0          0  \n",
       "65533                0          0  \n",
       "65534                0          0  \n",
       "\n",
       "[61435 rows x 37 columns]"
      ]
     },
     "execution_count": 26,
     "metadata": {},
     "output_type": "execute_result"
    }
   ],
   "source": [
    "model_data"
   ]
  },
  {
   "cell_type": "code",
   "execution_count": 27,
   "metadata": {},
   "outputs": [],
   "source": [
    "from sklearn.model_selection import train_test_split\n",
    "from sklearn.preprocessing import StandardScaler\n",
    "\n",
    "\n",
    "X_columns = model_data.columns[model_data.columns!='是否续保']\n",
    "X = model_data[X_columns]\n",
    "\n",
    "scaler = StandardScaler().fit(X)\n",
    "y = model_data['是否续保']\n",
    "train_X,test_X,train_y,test_y=train_test_split(X,y,train_size=0.6)\n",
    "train_X = pd.DataFrame(scaler.transform(train_X))\n",
    "test_X = pd.DataFrame(scaler.transform(test_X))"
   ]
  },
  {
   "cell_type": "code",
   "execution_count": 28,
   "metadata": {},
   "outputs": [
    {
     "name": "stdout",
     "output_type": "stream",
     "text": [
      "{'max_depth': 17, 'max_features': 14, 'min_samples_leaf': 9, 'min_samples_split': 115, 'n_estimators': 56} 0.9989556894414995\n"
     ]
    }
   ],
   "source": [
    "from sklearn.ensemble import RandomForestClassifier\n",
    "from sklearn.model_selection import GridSearchCV\n",
    "param_test1 = {'n_estimators':[56],\n",
    "               'max_depth':[17],\n",
    "               'min_samples_split':[110,115],\n",
    "               'min_samples_leaf':[9],\n",
    "               'max_features':[14]}\n",
    "\n",
    "gsearch1 = GridSearchCV(estimator = RandomForestClassifier(max_features='sqrt' ,random_state=10), \n",
    "                       param_grid = param_test1, scoring='roc_auc',cv=3)\n",
    "gsearch1.fit(train_X,train_y)\n",
    "print( gsearch1.best_params_, gsearch1.best_score_)#,gsearch1.cv_results_打印拟合结果)"
   ]
  },
  {
   "cell_type": "code",
   "execution_count": 92,
   "metadata": {},
   "outputs": [],
   "source": [
    "predict_y = gsearch1.predict_proba(X[X['风险类别（A最低，E最高）']<0])"
   ]
  },
  {
   "cell_type": "code",
   "execution_count": 95,
   "metadata": {},
   "outputs": [
    {
     "data": {
      "text/plain": [
       "0.10780111969836208"
      ]
     },
     "execution_count": 95,
     "metadata": {},
     "output_type": "execute_result"
    }
   ],
   "source": [
    "predict_y[:,1].mean()"
   ]
  },
  {
   "cell_type": "code",
   "execution_count": 47,
   "metadata": {},
   "outputs": [
    {
     "data": {
      "text/plain": [
       "0.11320367861435425"
      ]
     },
     "execution_count": 47,
     "metadata": {},
     "output_type": "execute_result"
    }
   ],
   "source": [
    "X['签单保费'] = X['签单保费']*0.9\n",
    "predict_y = gsearch1.predict_proba(X)\n",
    "predict_y[:,1].mean()"
   ]
  },
  {
   "cell_type": "code",
   "execution_count": 87,
   "metadata": {},
   "outputs": [
    {
     "data": {
      "text/plain": [
       "0.11344886854777549"
      ]
     },
     "execution_count": 87,
     "metadata": {},
     "output_type": "execute_result"
    }
   ],
   "source": [
    "X['签单保费'] = X['签单保费']*0.9\n",
    "predict_y = gsearch1.predict_proba(X)\n",
    "predict_y[:,1].mean()"
   ]
  },
  {
   "cell_type": "code",
   "execution_count": null,
   "metadata": {},
   "outputs": [],
   "source": []
  },
  {
   "cell_type": "code",
   "execution_count": 97,
   "metadata": {},
   "outputs": [
    {
     "data": {
      "text/plain": [
       "-0.005647748849413409"
      ]
     },
     "execution_count": 97,
     "metadata": {},
     "output_type": "execute_result"
    }
   ],
   "source": [
    "0.10780111969836208 - 0.11344886854777549"
   ]
  },
  {
   "cell_type": "code",
   "execution_count": null,
   "metadata": {},
   "outputs": [],
   "source": []
  },
  {
   "cell_type": "code",
   "execution_count": null,
   "metadata": {},
   "outputs": [],
   "source": []
  },
  {
   "cell_type": "code",
   "execution_count": null,
   "metadata": {},
   "outputs": [],
   "source": []
  }
 ],
 "metadata": {
  "kernelspec": {
   "display_name": "Python 3",
   "language": "python",
   "name": "python3"
  },
  "language_info": {
   "codemirror_mode": {
    "name": "ipython",
    "version": 3
   },
   "file_extension": ".py",
   "mimetype": "text/x-python",
   "name": "python",
   "nbconvert_exporter": "python",
   "pygments_lexer": "ipython3",
   "version": "3.7.6"
  }
 },
 "nbformat": 4,
 "nbformat_minor": 4
}
